{
 "cells": [
  {
   "cell_type": "markdown",
   "id": "428db211",
   "metadata": {},
   "source": [
    "#  Tarea 2\n",
    "### Juan Diego Venegas\n",
    "### 00209856"
   ]
  },
  {
   "cell_type": "markdown",
   "id": "4f652aaa",
   "metadata": {},
   "source": [
    "## 1. List and briefly define the possible states that define an instruction execution."
   ]
  },
  {
   "cell_type": "markdown",
   "id": "ab49e852",
   "metadata": {},
   "source": [
    "Los 6 estados de la instruccion son:\n",
    "1. Fetch: Como las instrucciones estan almacenadas en memoria, el primer paso es obtener de la memoria la instruccion y guardarla en el register de instruccion.\n",
    "2. Decode: Se decodifica la instruccion para determinar la operacion y sus operandos\n",
    "3. Evaluate Address: Si la instruccion requiere acceder a alguna direccion de memoria, se determina la ubicacion de estos elementos.\n",
    "4. Fetch Operands: Se cargan los operandos que se necesiten de la memoria en los registros temporales\n",
    "5. Execute: Se ejecuta la operacion con los operandos que se encuentran en los registros temporales\n",
    "6. Store Results: Se almacenan los resultados en los registros internos o en la memoria."
   ]
  },
  {
   "cell_type": "markdown",
   "id": "0c78be75",
   "metadata": {},
   "source": [
    "## 2.  What types of transfers must a computer’s interconnection structure (e.g., bus) support?"
   ]
  },
  {
   "cell_type": "markdown",
   "id": "c2774037",
   "metadata": {},
   "source": [
    "Para la comunicacion interna, se requiere:\n",
    "- Adress Bus: bus que lleva informacion de la direccion en memoria entre componentes.\n",
    "- Data Bus: bus que permite conexion y transferencia de datos en forma binaria entre diferentes componentes del sistema, como del procesador a la memoria.\n",
    "- Control Bus: lleva la señal del procesador a la memoria o a otros dispositivos con comandos de lectura o escritura, señales de habilitacion o deshabilitacion, u otras señales para controlar el sistema (en general, como el nombre lo dice, lleva señales de control).\n"
   ]
  },
  {
   "cell_type": "markdown",
   "id": "11dcf907",
   "metadata": {},
   "source": [
    "## 3. Consider a hypothetical 32-bit microprocessor having 32-bit instructions composed of two fields: the first byte contains the opcode and the remainder the immediate operand or an operand address.\n",
    "### a. What is the maximum directly addressable memory capacity (in bytes)?"
   ]
  },
  {
   "cell_type": "markdown",
   "id": "49635376",
   "metadata": {},
   "source": [
    "Ya que el microprocesador tiene 32 bits compuestas por dos campos, donde el primer byte tiene el opcode y el resto tiene el operando, y el campo del opcode es de un byte (8 bits), dando : 32 - 8 = 24. se aplica la formula $ 2**24 - 1 = 16777215\n",
    "$ para determinar el numero maximo con 24 bits. Los 16777215 bytes se pueden representar como aproximadamente 16 MB."
   ]
  },
  {
   "cell_type": "markdown",
   "id": "d94c4f6a",
   "metadata": {},
   "source": [
    "### b. Discuss the impact on the system speed if the microprocessor bus has:\n",
    "#### 1. 32-bit local address bus and a 16-bit local data bus, or\n",
    "#### 2. 16-bit local address bus and a 16-bit local data bus."
   ]
  },
  {
   "cell_type": "markdown",
   "id": "e05f249b",
   "metadata": {},
   "source": [
    "1. El address bus determina la cantidad de memoria que puede ser direccionada, mientras que el data bu determina la cantidad de datos que pueden ser transferidos. El address bus puede direccionar $ 2**32 = 4294967296$ que se puede aproximar a 4 GB, mientras que el data bus solo puede transferir $ 2**16 $ que no llega ni al GB, por lo que solo se pueden transferir 16  bits en una operacion. Esto implica que el tiempo para transferir la informacion va a ser mayor a la que seria con un data bus mayor. En este caso el address bus tomaria un ciclo de bus, mientras que el data bus tomaria 2 ya que se divide en dos partes de 16 bits cada una.\n",
    "2. En este caso, se usarian 4 ciclos de bus, ya que la instruccion se divide en dos partes de 16 bits cada una, pasan por el address bus (2 ciclos), y otros dos ciclos para el paso por los data bus."
   ]
  },
  {
   "cell_type": "markdown",
   "id": "f323f59f",
   "metadata": {},
   "source": [
    "### c. How many bits are needed for the program counter and the instruction register?"
   ]
  },
  {
   "cell_type": "markdown",
   "id": "b628f024",
   "metadata": {},
   "source": [
    "Como se vio en la respuesta a, el opcode es de 8 bits, por lo que se le resta 32-8 = 24, indicando que se necesita un program counter de 24 bits. Para el instruction register, si se busca que almacene toda la instruccion necesitara los 32 bits que ocupa la instruccion."
   ]
  },
  {
   "cell_type": "markdown",
   "id": "6be53a51",
   "metadata": {},
   "source": [
    "## 4. A microprocessor is clocked at a rate of 5 GHz.\n",
    "### a. How long is a clock cycle?"
   ]
  },
  {
   "cell_type": "markdown",
   "id": "32ca1434",
   "metadata": {},
   "source": [
    "usando la formula: $ lenght = 1 / clockRate $ -> $ 1/5 GHz $ -> $ 1/5.000.000.000 = 2 x 10 $ ** $-10$ que es igual a 0.2 nanosegundos"
   ]
  },
  {
   "cell_type": "markdown",
   "id": "c609b88d",
   "metadata": {},
   "source": [
    "### b. What is the duration of a particular type of machine instruction consisting of three clock cycles?"
   ]
  },
  {
   "cell_type": "markdown",
   "id": "a48a16e5",
   "metadata": {},
   "source": [
    "Del literal anterior se tiene que el clockLenght es 0.2 nanosegundos. Para hallar la duracion se multiplica el numero de clockCycles por el largo del clockCycle, dando asi: $$ 3 x 0.2ns = 0.6ns$$\n"
   ]
  },
  {
   "cell_type": "markdown",
   "id": "dda3c65a",
   "metadata": {},
   "source": [
    "## 5. Suppose you wish to run a program P with 7x10 **9 instructions on a 5 GHz machine with a CPI of 0.8.\n",
    "### a. What is the expected CPU time?"
   ]
  },
  {
   "cell_type": "markdown",
   "id": "3b229cab",
   "metadata": {},
   "source": [
    "Se tiene la formula: $ tiempoCPU = numero de instrucciones * CPI / clockRate $ -> \n",
    "\n",
    "$ tiempo = 7.5x10$**$9 * 0.8/5.000.000.000 = 1.2 segundos$ "
   ]
  },
  {
   "cell_type": "markdown",
   "id": "57359a26",
   "metadata": {},
   "source": [
    "### b. When you run P, it takes 3 seconds of wall clock time to complete. What is the percentage of the CPU time P received?"
   ]
  },
  {
   "cell_type": "markdown",
   "id": "c3f80fb3",
   "metadata": {},
   "source": [
    "se hace la operacion: 1.12/3 * 100 = 37.33%"
   ]
  },
  {
   "cell_type": "markdown",
   "id": "9df91ebc",
   "metadata": {},
   "source": [
    "## 6. A nonpipelined processor has a clock rate of 2.5 GHz and an average CPI (cycles per instruction) of 4. An upgrade to the processor introduces a five-stage pipeline. However, due to internal pipeline delays, such as latch delay, the clock rate of the new processor has to be reduced to 2 GHz. What is the speedup achieved for a typical program?"
   ]
  },
  {
   "cell_type": "markdown",
   "id": "8c13e61e",
   "metadata": {},
   "source": [
    "Para hallar el speedup se comparan las velocidades de ejecucion de la siguiente manera: $$ tiempo de ejecucion antiguo / tiempo de ejecucion nuevo \n",
    "$$Los tiempos de ejecucion se hallan de la siguiente manera:$$Tiempo de ejecucion = CPI * 1/ClockRate$$ \n",
    "\n",
    "Se calculan los dos tiempos de ejecucion:\n",
    "\n",
    "Tiempo antiguo: \n",
    "\n",
    "            $ 4 * 1/2500000000 -> 1.6x10$ ** $-9 -> 1.6 x 10$ $-9 -> 1.6 ns$\n",
    "            \n",
    "Tiempo nuevo: (Se asume que el CPI es 1) \n",
    "\n",
    "            $ 1 * 1/2000000000 -> 5x10$ ** $-10 -> 5 x 10$ $-10 -> 0.5 ns$\n",
    "            \n",
    "Timepo de ejecucion: $$ 1.6ns/0.5ns -> 3.2ns $$"
   ]
  }
 ],
 "metadata": {
  "kernelspec": {
   "display_name": "Python 3 (ipykernel)",
   "language": "python",
   "name": "python3"
  },
  "language_info": {
   "codemirror_mode": {
    "name": "ipython",
    "version": 3
   },
   "file_extension": ".py",
   "mimetype": "text/x-python",
   "name": "python",
   "nbconvert_exporter": "python",
   "pygments_lexer": "ipython3",
   "version": "3.9.12"
  }
 },
 "nbformat": 4,
 "nbformat_minor": 5
}
