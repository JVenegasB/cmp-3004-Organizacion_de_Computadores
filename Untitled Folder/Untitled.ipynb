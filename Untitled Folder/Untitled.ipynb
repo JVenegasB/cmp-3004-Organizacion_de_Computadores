{
 "cells": [
  {
   "cell_type": "markdown",
   "id": "428db211",
   "metadata": {},
   "source": [
    "#  Tarea 2\n",
    "### Juan Diego Venegas\n",
    "### 00209856"
   ]
  },
  {
   "cell_type": "markdown",
   "id": "4f652aaa",
   "metadata": {},
   "source": [
    "## 1. List and briefly define the possible states that define an instruction execution."
   ]
  },
  {
   "cell_type": "markdown",
   "id": "8c001687",
   "metadata": {},
   "source": []
  },
  {
   "cell_type": "markdown",
   "id": "0c78be75",
   "metadata": {},
   "source": [
    "## 2.  What types of transfers must a computer’s interconnection structure (e.g., bus) support?"
   ]
  },
  {
   "cell_type": "markdown",
   "id": "c2774037",
   "metadata": {},
   "source": []
  },
  {
   "cell_type": "markdown",
   "id": "11dcf907",
   "metadata": {},
   "source": [
    "## 3. Consider a hypothetical 32-bit microprocessor having 32-bit instructions composed of two fields: the first byte contains the opcode and the remainder the immediate operand or an operand address.\n",
    "### a. What is the maximum directly addressable memory capacity (in bytes)?"
   ]
  },
  {
   "cell_type": "markdown",
   "id": "49635376",
   "metadata": {},
   "source": []
  },
  {
   "cell_type": "markdown",
   "id": "d94c4f6a",
   "metadata": {},
   "source": [
    "### b. Discuss the impact on the system speed if the microprocessor bus has:\n",
    "#### 1. 32-bit local address bus and a 16-bit local data bus, or\n",
    "#### 2. 16-bit local address bus and a 16-bit local data bus."
   ]
  },
  {
   "cell_type": "markdown",
   "id": "e05f249b",
   "metadata": {},
   "source": []
  },
  {
   "cell_type": "markdown",
   "id": "f323f59f",
   "metadata": {},
   "source": [
    "### c. How many bits are needed for the program counter and the instruction register?\n"
   ]
  },
  {
   "cell_type": "markdown",
   "id": "b628f024",
   "metadata": {},
   "source": []
  },
  {
   "cell_type": "markdown",
   "id": "6be53a51",
   "metadata": {},
   "source": [
    "## 4. A microprocessor is clocked at a rate of 5 GHz.\n",
    "### a. How long is a clock cycle?"
   ]
  },
  {
   "cell_type": "markdown",
   "id": "32ca1434",
   "metadata": {},
   "source": []
  },
  {
   "cell_type": "markdown",
   "id": "c609b88d",
   "metadata": {},
   "source": [
    "### b. What is the duration of a particular type of machine instruction consisting of three clock cycles?"
   ]
  },
  {
   "cell_type": "markdown",
   "id": "a48a16e5",
   "metadata": {},
   "source": []
  },
  {
   "cell_type": "markdown",
   "id": "dda3c65a",
   "metadata": {},
   "source": [
    "## 5. Suppose you wish to run a program P with 7x10 **9 instructions on a 5 GHz machine with a CPI of 0.8.\n",
    "### a. What is the expected CPU time?"
   ]
  },
  {
   "cell_type": "markdown",
   "id": "3b229cab",
   "metadata": {},
   "source": []
  },
  {
   "cell_type": "markdown",
   "id": "57359a26",
   "metadata": {},
   "source": [
    "### b. When you run P, it takes 3 seconds of wall clock time to complete. What is the percentage of the CPU time P received?"
   ]
  },
  {
   "cell_type": "markdown",
   "id": "c3f80fb3",
   "metadata": {},
   "source": []
  },
  {
   "cell_type": "markdown",
   "id": "9df91ebc",
   "metadata": {},
   "source": [
    "## 6. A nonpipelined processor has a clock rate of 2.5 GHz and an average CPI (cycles per instruction) of 4. An upgrade to the processor introduces a five-stage pipeline. However, due to internal pipeline delays, such as latch delay, the clock rate of the new processor has to be reduced to 2 GHz. What is the speedup achieved for a typical program?"
   ]
  },
  {
   "cell_type": "markdown",
   "id": "8c13e61e",
   "metadata": {},
   "source": []
  }
 ],
 "metadata": {
  "kernelspec": {
   "display_name": "Python 3 (ipykernel)",
   "language": "python",
   "name": "python3"
  },
  "language_info": {
   "codemirror_mode": {
    "name": "ipython",
    "version": 3
   },
   "file_extension": ".py",
   "mimetype": "text/x-python",
   "name": "python",
   "nbconvert_exporter": "python",
   "pygments_lexer": "ipython3",
   "version": "3.9.12"
  }
 },
 "nbformat": 4,
 "nbformat_minor": 5
}
